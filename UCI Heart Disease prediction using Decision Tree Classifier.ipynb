{
 "cells": [
  {
   "cell_type": "markdown",
   "id": "dc088815",
   "metadata": {},
   "source": [
    "#  Decision Tree Classification-UCI Heart Disease Data Set\n"
   ]
  },
  {
   "cell_type": "markdown",
   "id": "367cd276",
   "metadata": {},
   "source": [
    "### Import"
   ]
  },
  {
   "cell_type": "code",
   "execution_count": 1,
   "id": "57198f80",
   "metadata": {},
   "outputs": [],
   "source": [
    "import numpy as np\n",
    "import pandas as pd\n",
    "import matplotlib.pyplot as plt\n",
    "from sklearn.model_selection import train_test_split\n",
    "from sklearn.tree import DecisionTreeClassifier\n",
    "from sklearn import tree\n",
    "from sklearn.tree import plot_tree\n",
    "from sklearn.model_selection import cross_val_score\n",
    "from sklearn.metrics import confusion_matrix\n",
    "from sklearn.metrics import plot_confusion_matrix\n",
    "from sklearn.metrics import accuracy_score, classification_report, confusion_matrix\n",
    "from sklearn.metrics import roc_curve, roc_auc_score, precision_score, recall_score, f1_score\n",
    "from sklearn.metrics import plot_confusion_matrix"
   ]
  },
  {
   "cell_type": "markdown",
   "id": "8ff28fdd",
   "metadata": {},
   "source": [
    "source: https://archive.ics.uci.edu/ml/datasets/heart+disease"
   ]
  },
  {
   "cell_type": "code",
   "execution_count": 2,
   "id": "486cfcb5",
   "metadata": {},
   "outputs": [
    {
     "data": {
      "text/html": [
       "<div>\n",
       "<style scoped>\n",
       "    .dataframe tbody tr th:only-of-type {\n",
       "        vertical-align: middle;\n",
       "    }\n",
       "\n",
       "    .dataframe tbody tr th {\n",
       "        vertical-align: top;\n",
       "    }\n",
       "\n",
       "    .dataframe thead th {\n",
       "        text-align: right;\n",
       "    }\n",
       "</style>\n",
       "<table border=\"1\" class=\"dataframe\">\n",
       "  <thead>\n",
       "    <tr style=\"text-align: right;\">\n",
       "      <th></th>\n",
       "      <th>0</th>\n",
       "      <th>1</th>\n",
       "      <th>2</th>\n",
       "      <th>3</th>\n",
       "      <th>4</th>\n",
       "      <th>5</th>\n",
       "      <th>6</th>\n",
       "      <th>7</th>\n",
       "      <th>8</th>\n",
       "      <th>9</th>\n",
       "      <th>10</th>\n",
       "      <th>11</th>\n",
       "      <th>12</th>\n",
       "      <th>13</th>\n",
       "    </tr>\n",
       "  </thead>\n",
       "  <tbody>\n",
       "    <tr>\n",
       "      <th>0</th>\n",
       "      <td>63</td>\n",
       "      <td>1</td>\n",
       "      <td>1</td>\n",
       "      <td>145</td>\n",
       "      <td>233</td>\n",
       "      <td>1</td>\n",
       "      <td>2</td>\n",
       "      <td>150</td>\n",
       "      <td>0</td>\n",
       "      <td>2.3</td>\n",
       "      <td>3</td>\n",
       "      <td>0</td>\n",
       "      <td>6</td>\n",
       "      <td>0</td>\n",
       "    </tr>\n",
       "    <tr>\n",
       "      <th>1</th>\n",
       "      <td>67</td>\n",
       "      <td>1</td>\n",
       "      <td>4</td>\n",
       "      <td>160</td>\n",
       "      <td>286</td>\n",
       "      <td>0</td>\n",
       "      <td>2</td>\n",
       "      <td>108</td>\n",
       "      <td>1</td>\n",
       "      <td>1.5</td>\n",
       "      <td>2</td>\n",
       "      <td>3</td>\n",
       "      <td>3</td>\n",
       "      <td>2</td>\n",
       "    </tr>\n",
       "    <tr>\n",
       "      <th>2</th>\n",
       "      <td>67</td>\n",
       "      <td>1</td>\n",
       "      <td>4</td>\n",
       "      <td>120</td>\n",
       "      <td>229</td>\n",
       "      <td>0</td>\n",
       "      <td>2</td>\n",
       "      <td>129</td>\n",
       "      <td>1</td>\n",
       "      <td>2.6</td>\n",
       "      <td>2</td>\n",
       "      <td>2</td>\n",
       "      <td>7</td>\n",
       "      <td>1</td>\n",
       "    </tr>\n",
       "    <tr>\n",
       "      <th>3</th>\n",
       "      <td>37</td>\n",
       "      <td>1</td>\n",
       "      <td>3</td>\n",
       "      <td>130</td>\n",
       "      <td>250</td>\n",
       "      <td>0</td>\n",
       "      <td>0</td>\n",
       "      <td>187</td>\n",
       "      <td>0</td>\n",
       "      <td>3.5</td>\n",
       "      <td>3</td>\n",
       "      <td>0</td>\n",
       "      <td>3</td>\n",
       "      <td>0</td>\n",
       "    </tr>\n",
       "    <tr>\n",
       "      <th>4</th>\n",
       "      <td>41</td>\n",
       "      <td>0</td>\n",
       "      <td>2</td>\n",
       "      <td>130</td>\n",
       "      <td>204</td>\n",
       "      <td>0</td>\n",
       "      <td>2</td>\n",
       "      <td>172</td>\n",
       "      <td>0</td>\n",
       "      <td>1.4</td>\n",
       "      <td>1</td>\n",
       "      <td>0</td>\n",
       "      <td>3</td>\n",
       "      <td>0</td>\n",
       "    </tr>\n",
       "  </tbody>\n",
       "</table>\n",
       "</div>"
      ],
      "text/plain": [
       "   0   1   2    3    4   5   6    7   8    9   10 11 12  13\n",
       "0  63   1   1  145  233   1   2  150   0  2.3   3  0  6   0\n",
       "1  67   1   4  160  286   0   2  108   1  1.5   2  3  3   2\n",
       "2  67   1   4  120  229   0   2  129   1  2.6   2  2  7   1\n",
       "3  37   1   3  130  250   0   0  187   0  3.5   3  0  3   0\n",
       "4  41   0   2  130  204   0   2  172   0  1.4   1  0  3   0"
      ]
     },
     "metadata": {},
     "output_type": "display_data"
    },
    {
     "data": {
      "text/plain": [
       "(303, 14)"
      ]
     },
     "execution_count": 2,
     "metadata": {},
     "output_type": "execute_result"
    }
   ],
   "source": [
    "df=pd.read_csv('heart disease.csv',header=None) #header none is required\n",
    "display(df.head()) \n",
    "df.shape"
   ]
  },
  {
   "cell_type": "markdown",
   "id": "ab74449b",
   "metadata": {},
   "source": [
    "### Add column names"
   ]
  },
  {
   "cell_type": "code",
   "execution_count": 3,
   "id": "2f455582",
   "metadata": {},
   "outputs": [
    {
     "data": {
      "text/html": [
       "<div>\n",
       "<style scoped>\n",
       "    .dataframe tbody tr th:only-of-type {\n",
       "        vertical-align: middle;\n",
       "    }\n",
       "\n",
       "    .dataframe tbody tr th {\n",
       "        vertical-align: top;\n",
       "    }\n",
       "\n",
       "    .dataframe thead th {\n",
       "        text-align: right;\n",
       "    }\n",
       "</style>\n",
       "<table border=\"1\" class=\"dataframe\">\n",
       "  <thead>\n",
       "    <tr style=\"text-align: right;\">\n",
       "      <th></th>\n",
       "      <th>age</th>\n",
       "      <th>sex</th>\n",
       "      <th>cp</th>\n",
       "      <th>restbps</th>\n",
       "      <th>chol</th>\n",
       "      <th>fbs</th>\n",
       "      <th>restecg</th>\n",
       "      <th>thalach</th>\n",
       "      <th>exang</th>\n",
       "      <th>oldpeak</th>\n",
       "      <th>slope</th>\n",
       "      <th>ca</th>\n",
       "      <th>thal</th>\n",
       "      <th>hd</th>\n",
       "    </tr>\n",
       "  </thead>\n",
       "  <tbody>\n",
       "    <tr>\n",
       "      <th>0</th>\n",
       "      <td>63</td>\n",
       "      <td>1</td>\n",
       "      <td>1</td>\n",
       "      <td>145</td>\n",
       "      <td>233</td>\n",
       "      <td>1</td>\n",
       "      <td>2</td>\n",
       "      <td>150</td>\n",
       "      <td>0</td>\n",
       "      <td>2.3</td>\n",
       "      <td>3</td>\n",
       "      <td>0</td>\n",
       "      <td>6</td>\n",
       "      <td>0</td>\n",
       "    </tr>\n",
       "    <tr>\n",
       "      <th>1</th>\n",
       "      <td>67</td>\n",
       "      <td>1</td>\n",
       "      <td>4</td>\n",
       "      <td>160</td>\n",
       "      <td>286</td>\n",
       "      <td>0</td>\n",
       "      <td>2</td>\n",
       "      <td>108</td>\n",
       "      <td>1</td>\n",
       "      <td>1.5</td>\n",
       "      <td>2</td>\n",
       "      <td>3</td>\n",
       "      <td>3</td>\n",
       "      <td>2</td>\n",
       "    </tr>\n",
       "    <tr>\n",
       "      <th>2</th>\n",
       "      <td>67</td>\n",
       "      <td>1</td>\n",
       "      <td>4</td>\n",
       "      <td>120</td>\n",
       "      <td>229</td>\n",
       "      <td>0</td>\n",
       "      <td>2</td>\n",
       "      <td>129</td>\n",
       "      <td>1</td>\n",
       "      <td>2.6</td>\n",
       "      <td>2</td>\n",
       "      <td>2</td>\n",
       "      <td>7</td>\n",
       "      <td>1</td>\n",
       "    </tr>\n",
       "    <tr>\n",
       "      <th>3</th>\n",
       "      <td>37</td>\n",
       "      <td>1</td>\n",
       "      <td>3</td>\n",
       "      <td>130</td>\n",
       "      <td>250</td>\n",
       "      <td>0</td>\n",
       "      <td>0</td>\n",
       "      <td>187</td>\n",
       "      <td>0</td>\n",
       "      <td>3.5</td>\n",
       "      <td>3</td>\n",
       "      <td>0</td>\n",
       "      <td>3</td>\n",
       "      <td>0</td>\n",
       "    </tr>\n",
       "    <tr>\n",
       "      <th>4</th>\n",
       "      <td>41</td>\n",
       "      <td>0</td>\n",
       "      <td>2</td>\n",
       "      <td>130</td>\n",
       "      <td>204</td>\n",
       "      <td>0</td>\n",
       "      <td>2</td>\n",
       "      <td>172</td>\n",
       "      <td>0</td>\n",
       "      <td>1.4</td>\n",
       "      <td>1</td>\n",
       "      <td>0</td>\n",
       "      <td>3</td>\n",
       "      <td>0</td>\n",
       "    </tr>\n",
       "  </tbody>\n",
       "</table>\n",
       "</div>"
      ],
      "text/plain": [
       "   age  sex  cp  restbps  chol  fbs  restecg  thalach  exang  oldpeak  slope  \\\n",
       "0   63    1   1      145   233    1        2      150      0      2.3      3   \n",
       "1   67    1   4      160   286    0        2      108      1      1.5      2   \n",
       "2   67    1   4      120   229    0        2      129      1      2.6      2   \n",
       "3   37    1   3      130   250    0        0      187      0      3.5      3   \n",
       "4   41    0   2      130   204    0        2      172      0      1.4      1   \n",
       "\n",
       "  ca thal  hd  \n",
       "0  0    6   0  \n",
       "1  3    3   2  \n",
       "2  2    7   1  \n",
       "3  0    3   0  \n",
       "4  0    3   0  "
      ]
     },
     "execution_count": 3,
     "metadata": {},
     "output_type": "execute_result"
    }
   ],
   "source": [
    "df.columns=['age','sex','cp','restbps','chol','fbs','restecg','thalach','exang','oldpeak','slope','ca','thal','hd']\n",
    "df.head()\n"
   ]
  },
  {
   "cell_type": "markdown",
   "id": "030e1c1f",
   "metadata": {},
   "source": [
    "- here, hd means heart disease,our target feature."
   ]
  },
  {
   "cell_type": "code",
   "execution_count": 4,
   "id": "8bd25e9e",
   "metadata": {},
   "outputs": [
    {
     "name": "stdout",
     "output_type": "stream",
     "text": [
      "<class 'pandas.core.frame.DataFrame'>\n",
      "RangeIndex: 303 entries, 0 to 302\n",
      "Data columns (total 14 columns):\n",
      " #   Column   Non-Null Count  Dtype  \n",
      "---  ------   --------------  -----  \n",
      " 0   age      303 non-null    int64  \n",
      " 1   sex      303 non-null    int64  \n",
      " 2   cp       303 non-null    int64  \n",
      " 3   restbps  303 non-null    int64  \n",
      " 4   chol     303 non-null    int64  \n",
      " 5   fbs      303 non-null    int64  \n",
      " 6   restecg  303 non-null    int64  \n",
      " 7   thalach  303 non-null    int64  \n",
      " 8   exang    303 non-null    int64  \n",
      " 9   oldpeak  303 non-null    float64\n",
      " 10  slope    303 non-null    int64  \n",
      " 11  ca       303 non-null    object \n",
      " 12  thal     303 non-null    object \n",
      " 13  hd       303 non-null    int64  \n",
      "dtypes: float64(1), int64(11), object(2)\n",
      "memory usage: 33.3+ KB\n"
     ]
    }
   ],
   "source": [
    "#print(df.dtypes)\n",
    "df.info()"
   ]
  },
  {
   "cell_type": "markdown",
   "id": "64841d21",
   "metadata": {},
   "source": [
    "- As 'ca' and 'thal'  are object type, they need to be checked for unique values whethere they have any non-numeric value"
   ]
  },
  {
   "cell_type": "markdown",
   "id": "1b9dcd2d",
   "metadata": {},
   "source": [
    "### Null values check"
   ]
  },
  {
   "cell_type": "code",
   "execution_count": 5,
   "id": "3deac1e0",
   "metadata": {},
   "outputs": [],
   "source": [
    "#df.isnull().sum()"
   ]
  },
  {
   "cell_type": "code",
   "execution_count": 6,
   "id": "ed59a3c0",
   "metadata": {},
   "outputs": [
    {
     "name": "stdout",
     "output_type": "stream",
     "text": [
      "['0' '3' '2' '1' '?']\n",
      "['6' '3' '7' '?']\n"
     ]
    }
   ],
   "source": [
    "print(df['ca'].unique())\n",
    "print(df['thal'].unique())"
   ]
  },
  {
   "cell_type": "markdown",
   "id": "2793a4a9",
   "metadata": {},
   "source": [
    "- mixture of numeric and text data, these rows need to be removed\n"
   ]
  },
  {
   "cell_type": "code",
   "execution_count": 7,
   "id": "49703598",
   "metadata": {},
   "outputs": [],
   "source": [
    "# # check unique values in each column\n",
    "# for column in df:\n",
    "#     print(df[column].unique())    \n"
   ]
  },
  {
   "cell_type": "markdown",
   "id": "b223d201",
   "metadata": {},
   "source": [
    "### Find rows with null values"
   ]
  },
  {
   "cell_type": "code",
   "execution_count": 8,
   "id": "baa963d8",
   "metadata": {},
   "outputs": [
    {
     "data": {
      "text/html": [
       "<div>\n",
       "<style scoped>\n",
       "    .dataframe tbody tr th:only-of-type {\n",
       "        vertical-align: middle;\n",
       "    }\n",
       "\n",
       "    .dataframe tbody tr th {\n",
       "        vertical-align: top;\n",
       "    }\n",
       "\n",
       "    .dataframe thead th {\n",
       "        text-align: right;\n",
       "    }\n",
       "</style>\n",
       "<table border=\"1\" class=\"dataframe\">\n",
       "  <thead>\n",
       "    <tr style=\"text-align: right;\">\n",
       "      <th></th>\n",
       "      <th>age</th>\n",
       "      <th>sex</th>\n",
       "      <th>cp</th>\n",
       "      <th>restbps</th>\n",
       "      <th>chol</th>\n",
       "      <th>fbs</th>\n",
       "      <th>restecg</th>\n",
       "      <th>thalach</th>\n",
       "      <th>exang</th>\n",
       "      <th>oldpeak</th>\n",
       "      <th>slope</th>\n",
       "      <th>ca</th>\n",
       "      <th>thal</th>\n",
       "      <th>hd</th>\n",
       "    </tr>\n",
       "  </thead>\n",
       "  <tbody>\n",
       "    <tr>\n",
       "      <th>87</th>\n",
       "      <td>53</td>\n",
       "      <td>0</td>\n",
       "      <td>3</td>\n",
       "      <td>128</td>\n",
       "      <td>216</td>\n",
       "      <td>0</td>\n",
       "      <td>2</td>\n",
       "      <td>115</td>\n",
       "      <td>0</td>\n",
       "      <td>0.0</td>\n",
       "      <td>1</td>\n",
       "      <td>0</td>\n",
       "      <td>?</td>\n",
       "      <td>0</td>\n",
       "    </tr>\n",
       "    <tr>\n",
       "      <th>166</th>\n",
       "      <td>52</td>\n",
       "      <td>1</td>\n",
       "      <td>3</td>\n",
       "      <td>138</td>\n",
       "      <td>223</td>\n",
       "      <td>0</td>\n",
       "      <td>0</td>\n",
       "      <td>169</td>\n",
       "      <td>0</td>\n",
       "      <td>0.0</td>\n",
       "      <td>1</td>\n",
       "      <td>?</td>\n",
       "      <td>3</td>\n",
       "      <td>0</td>\n",
       "    </tr>\n",
       "    <tr>\n",
       "      <th>192</th>\n",
       "      <td>43</td>\n",
       "      <td>1</td>\n",
       "      <td>4</td>\n",
       "      <td>132</td>\n",
       "      <td>247</td>\n",
       "      <td>1</td>\n",
       "      <td>2</td>\n",
       "      <td>143</td>\n",
       "      <td>1</td>\n",
       "      <td>0.1</td>\n",
       "      <td>2</td>\n",
       "      <td>?</td>\n",
       "      <td>7</td>\n",
       "      <td>1</td>\n",
       "    </tr>\n",
       "    <tr>\n",
       "      <th>266</th>\n",
       "      <td>52</td>\n",
       "      <td>1</td>\n",
       "      <td>4</td>\n",
       "      <td>128</td>\n",
       "      <td>204</td>\n",
       "      <td>1</td>\n",
       "      <td>0</td>\n",
       "      <td>156</td>\n",
       "      <td>1</td>\n",
       "      <td>1.0</td>\n",
       "      <td>2</td>\n",
       "      <td>0</td>\n",
       "      <td>?</td>\n",
       "      <td>2</td>\n",
       "    </tr>\n",
       "    <tr>\n",
       "      <th>287</th>\n",
       "      <td>58</td>\n",
       "      <td>1</td>\n",
       "      <td>2</td>\n",
       "      <td>125</td>\n",
       "      <td>220</td>\n",
       "      <td>0</td>\n",
       "      <td>0</td>\n",
       "      <td>144</td>\n",
       "      <td>0</td>\n",
       "      <td>0.4</td>\n",
       "      <td>2</td>\n",
       "      <td>?</td>\n",
       "      <td>7</td>\n",
       "      <td>0</td>\n",
       "    </tr>\n",
       "    <tr>\n",
       "      <th>302</th>\n",
       "      <td>38</td>\n",
       "      <td>1</td>\n",
       "      <td>3</td>\n",
       "      <td>138</td>\n",
       "      <td>175</td>\n",
       "      <td>0</td>\n",
       "      <td>0</td>\n",
       "      <td>173</td>\n",
       "      <td>0</td>\n",
       "      <td>0.0</td>\n",
       "      <td>1</td>\n",
       "      <td>?</td>\n",
       "      <td>3</td>\n",
       "      <td>0</td>\n",
       "    </tr>\n",
       "  </tbody>\n",
       "</table>\n",
       "</div>"
      ],
      "text/plain": [
       "     age  sex  cp  restbps  chol  fbs  restecg  thalach  exang  oldpeak  \\\n",
       "87    53    0   3      128   216    0        2      115      0      0.0   \n",
       "166   52    1   3      138   223    0        0      169      0      0.0   \n",
       "192   43    1   4      132   247    1        2      143      1      0.1   \n",
       "266   52    1   4      128   204    1        0      156      1      1.0   \n",
       "287   58    1   2      125   220    0        0      144      0      0.4   \n",
       "302   38    1   3      138   175    0        0      173      0      0.0   \n",
       "\n",
       "     slope ca thal  hd  \n",
       "87       1  0    ?   0  \n",
       "166      1  ?    3   0  \n",
       "192      2  ?    7   1  \n",
       "266      2  0    ?   2  \n",
       "287      2  ?    7   0  \n",
       "302      1  ?    3   0  "
      ]
     },
     "metadata": {},
     "output_type": "display_data"
    },
    {
     "name": "stdout",
     "output_type": "stream",
     "text": [
      "number of rows with null values: 6\n"
     ]
    }
   ],
   "source": [
    "display(df.loc[(df['ca']=='?') | (df['thal']=='?')])\n",
    "print('number of rows with null values:',len(df.loc[(df['ca']=='?') | (df['thal']=='?')]))"
   ]
  },
  {
   "cell_type": "markdown",
   "id": "17d65f4a",
   "metadata": {},
   "source": [
    "- as only 6 rows contain null values compared to total 303 rows, these 6 rows can be removed ."
   ]
  },
  {
   "cell_type": "code",
   "execution_count": 9,
   "id": "44730ba1",
   "metadata": {},
   "outputs": [
    {
     "data": {
      "text/plain": [
       "297"
      ]
     },
     "execution_count": 9,
     "metadata": {},
     "output_type": "execute_result"
    }
   ],
   "source": [
    "df=df.loc[(df['ca']!='?') & (df['thal']!='?')]\n",
    "len(df) #303-6=297 rows remaining "
   ]
  },
  {
   "cell_type": "code",
   "execution_count": 10,
   "id": "6c12482d",
   "metadata": {},
   "outputs": [
    {
     "name": "stdout",
     "output_type": "stream",
     "text": [
      "['0' '3' '2' '1']\n",
      "['6' '3' '7']\n"
     ]
    }
   ],
   "source": [
    "#Recheck to confirm\n",
    "print(df['ca'].unique())\n",
    "print(df['thal'].unique())"
   ]
  },
  {
   "cell_type": "markdown",
   "id": "4a23b861",
   "metadata": {},
   "source": [
    "### Variable Separation"
   ]
  },
  {
   "cell_type": "code",
   "execution_count": 11,
   "id": "003084f9",
   "metadata": {},
   "outputs": [
    {
     "data": {
      "text/html": [
       "<div>\n",
       "<style scoped>\n",
       "    .dataframe tbody tr th:only-of-type {\n",
       "        vertical-align: middle;\n",
       "    }\n",
       "\n",
       "    .dataframe tbody tr th {\n",
       "        vertical-align: top;\n",
       "    }\n",
       "\n",
       "    .dataframe thead th {\n",
       "        text-align: right;\n",
       "    }\n",
       "</style>\n",
       "<table border=\"1\" class=\"dataframe\">\n",
       "  <thead>\n",
       "    <tr style=\"text-align: right;\">\n",
       "      <th></th>\n",
       "      <th>age</th>\n",
       "      <th>sex</th>\n",
       "      <th>cp</th>\n",
       "      <th>restbps</th>\n",
       "      <th>chol</th>\n",
       "      <th>fbs</th>\n",
       "      <th>restecg</th>\n",
       "      <th>thalach</th>\n",
       "      <th>exang</th>\n",
       "      <th>oldpeak</th>\n",
       "      <th>slope</th>\n",
       "      <th>ca</th>\n",
       "      <th>thal</th>\n",
       "    </tr>\n",
       "  </thead>\n",
       "  <tbody>\n",
       "    <tr>\n",
       "      <th>0</th>\n",
       "      <td>63</td>\n",
       "      <td>1</td>\n",
       "      <td>1</td>\n",
       "      <td>145</td>\n",
       "      <td>233</td>\n",
       "      <td>1</td>\n",
       "      <td>2</td>\n",
       "      <td>150</td>\n",
       "      <td>0</td>\n",
       "      <td>2.3</td>\n",
       "      <td>3</td>\n",
       "      <td>0</td>\n",
       "      <td>6</td>\n",
       "    </tr>\n",
       "    <tr>\n",
       "      <th>1</th>\n",
       "      <td>67</td>\n",
       "      <td>1</td>\n",
       "      <td>4</td>\n",
       "      <td>160</td>\n",
       "      <td>286</td>\n",
       "      <td>0</td>\n",
       "      <td>2</td>\n",
       "      <td>108</td>\n",
       "      <td>1</td>\n",
       "      <td>1.5</td>\n",
       "      <td>2</td>\n",
       "      <td>3</td>\n",
       "      <td>3</td>\n",
       "    </tr>\n",
       "    <tr>\n",
       "      <th>2</th>\n",
       "      <td>67</td>\n",
       "      <td>1</td>\n",
       "      <td>4</td>\n",
       "      <td>120</td>\n",
       "      <td>229</td>\n",
       "      <td>0</td>\n",
       "      <td>2</td>\n",
       "      <td>129</td>\n",
       "      <td>1</td>\n",
       "      <td>2.6</td>\n",
       "      <td>2</td>\n",
       "      <td>2</td>\n",
       "      <td>7</td>\n",
       "    </tr>\n",
       "    <tr>\n",
       "      <th>3</th>\n",
       "      <td>37</td>\n",
       "      <td>1</td>\n",
       "      <td>3</td>\n",
       "      <td>130</td>\n",
       "      <td>250</td>\n",
       "      <td>0</td>\n",
       "      <td>0</td>\n",
       "      <td>187</td>\n",
       "      <td>0</td>\n",
       "      <td>3.5</td>\n",
       "      <td>3</td>\n",
       "      <td>0</td>\n",
       "      <td>3</td>\n",
       "    </tr>\n",
       "    <tr>\n",
       "      <th>4</th>\n",
       "      <td>41</td>\n",
       "      <td>0</td>\n",
       "      <td>2</td>\n",
       "      <td>130</td>\n",
       "      <td>204</td>\n",
       "      <td>0</td>\n",
       "      <td>2</td>\n",
       "      <td>172</td>\n",
       "      <td>0</td>\n",
       "      <td>1.4</td>\n",
       "      <td>1</td>\n",
       "      <td>0</td>\n",
       "      <td>3</td>\n",
       "    </tr>\n",
       "  </tbody>\n",
       "</table>\n",
       "</div>"
      ],
      "text/plain": [
       "   age  sex  cp  restbps  chol  fbs  restecg  thalach  exang  oldpeak  slope  \\\n",
       "0   63    1   1      145   233    1        2      150      0      2.3      3   \n",
       "1   67    1   4      160   286    0        2      108      1      1.5      2   \n",
       "2   67    1   4      120   229    0        2      129      1      2.6      2   \n",
       "3   37    1   3      130   250    0        0      187      0      3.5      3   \n",
       "4   41    0   2      130   204    0        2      172      0      1.4      1   \n",
       "\n",
       "  ca thal  \n",
       "0  0    6  \n",
       "1  3    3  \n",
       "2  2    7  \n",
       "3  0    3  \n",
       "4  0    3  "
      ]
     },
     "metadata": {},
     "output_type": "display_data"
    },
    {
     "name": "stdout",
     "output_type": "stream",
     "text": [
      "(297, 13)\n"
     ]
    }
   ],
   "source": [
    "X=df.drop('hd',axis=1)\n",
    "display(X.head())\n",
    "print(X.shape)"
   ]
  },
  {
   "cell_type": "code",
   "execution_count": 12,
   "id": "10dedea4",
   "metadata": {},
   "outputs": [
    {
     "name": "stdout",
     "output_type": "stream",
     "text": [
      "(297,)\n"
     ]
    }
   ],
   "source": [
    "y=df['hd']\n",
    "y.head()\n",
    "print(y.shape)"
   ]
  },
  {
   "cell_type": "markdown",
   "id": "d4c56460",
   "metadata": {},
   "source": [
    "### Encoding-One Hot"
   ]
  },
  {
   "cell_type": "code",
   "execution_count": 13,
   "id": "aa5c2b37",
   "metadata": {},
   "outputs": [
    {
     "data": {
      "text/plain": [
       "Index(['age', 'sex', 'cp', 'restbps', 'chol', 'fbs', 'restecg', 'thalach',\n",
       "       'exang', 'oldpeak', 'slope', 'ca', 'thal'],\n",
       "      dtype='object')"
      ]
     },
     "execution_count": 13,
     "metadata": {},
     "output_type": "execute_result"
    }
   ],
   "source": [
    "X.columns"
   ]
  },
  {
   "cell_type": "markdown",
   "id": "2f72c294",
   "metadata": {},
   "source": [
    "- Total categorical features are 7: sex[1,0],  cp[1,2,3,4],  fbs[0,1],  restecg[1,2,3],  extang[0,1],  slope[1,2,3],  thal[3,6,9]\n",
    "- cp,  restecg,  slope,  thal has more than 2 values,so these 4 need to be encoded and all the other category features contain only 2 values 0 and 1, so no encoding is needed."
   ]
  },
  {
   "cell_type": "code",
   "execution_count": 14,
   "id": "56489109",
   "metadata": {},
   "outputs": [],
   "source": [
    "# X['cp'].dtype\n",
    "# X['cp'].unique()"
   ]
  },
  {
   "cell_type": "code",
   "execution_count": 15,
   "id": "85fa5e29",
   "metadata": {},
   "outputs": [],
   "source": [
    "#pd.get_dummies(X,columns=['cp']).head()\n",
    "X=pd.get_dummies(X,columns=['cp','restecg','slope','thal']) # here .head() caused trouble"
   ]
  },
  {
   "cell_type": "code",
   "execution_count": 16,
   "id": "f4960b0b",
   "metadata": {},
   "outputs": [
    {
     "data": {
      "text/html": [
       "<div>\n",
       "<style scoped>\n",
       "    .dataframe tbody tr th:only-of-type {\n",
       "        vertical-align: middle;\n",
       "    }\n",
       "\n",
       "    .dataframe tbody tr th {\n",
       "        vertical-align: top;\n",
       "    }\n",
       "\n",
       "    .dataframe thead th {\n",
       "        text-align: right;\n",
       "    }\n",
       "</style>\n",
       "<table border=\"1\" class=\"dataframe\">\n",
       "  <thead>\n",
       "    <tr style=\"text-align: right;\">\n",
       "      <th></th>\n",
       "      <th>age</th>\n",
       "      <th>sex</th>\n",
       "      <th>restbps</th>\n",
       "      <th>chol</th>\n",
       "      <th>fbs</th>\n",
       "      <th>thalach</th>\n",
       "      <th>exang</th>\n",
       "      <th>oldpeak</th>\n",
       "      <th>ca</th>\n",
       "      <th>cp_1</th>\n",
       "      <th>...</th>\n",
       "      <th>cp_4</th>\n",
       "      <th>restecg_0</th>\n",
       "      <th>restecg_1</th>\n",
       "      <th>restecg_2</th>\n",
       "      <th>slope_1</th>\n",
       "      <th>slope_2</th>\n",
       "      <th>slope_3</th>\n",
       "      <th>thal_3</th>\n",
       "      <th>thal_6</th>\n",
       "      <th>thal_7</th>\n",
       "    </tr>\n",
       "  </thead>\n",
       "  <tbody>\n",
       "    <tr>\n",
       "      <th>0</th>\n",
       "      <td>63</td>\n",
       "      <td>1</td>\n",
       "      <td>145</td>\n",
       "      <td>233</td>\n",
       "      <td>1</td>\n",
       "      <td>150</td>\n",
       "      <td>0</td>\n",
       "      <td>2.3</td>\n",
       "      <td>0</td>\n",
       "      <td>1</td>\n",
       "      <td>...</td>\n",
       "      <td>0</td>\n",
       "      <td>0</td>\n",
       "      <td>0</td>\n",
       "      <td>1</td>\n",
       "      <td>0</td>\n",
       "      <td>0</td>\n",
       "      <td>1</td>\n",
       "      <td>0</td>\n",
       "      <td>1</td>\n",
       "      <td>0</td>\n",
       "    </tr>\n",
       "    <tr>\n",
       "      <th>1</th>\n",
       "      <td>67</td>\n",
       "      <td>1</td>\n",
       "      <td>160</td>\n",
       "      <td>286</td>\n",
       "      <td>0</td>\n",
       "      <td>108</td>\n",
       "      <td>1</td>\n",
       "      <td>1.5</td>\n",
       "      <td>3</td>\n",
       "      <td>0</td>\n",
       "      <td>...</td>\n",
       "      <td>1</td>\n",
       "      <td>0</td>\n",
       "      <td>0</td>\n",
       "      <td>1</td>\n",
       "      <td>0</td>\n",
       "      <td>1</td>\n",
       "      <td>0</td>\n",
       "      <td>1</td>\n",
       "      <td>0</td>\n",
       "      <td>0</td>\n",
       "    </tr>\n",
       "    <tr>\n",
       "      <th>2</th>\n",
       "      <td>67</td>\n",
       "      <td>1</td>\n",
       "      <td>120</td>\n",
       "      <td>229</td>\n",
       "      <td>0</td>\n",
       "      <td>129</td>\n",
       "      <td>1</td>\n",
       "      <td>2.6</td>\n",
       "      <td>2</td>\n",
       "      <td>0</td>\n",
       "      <td>...</td>\n",
       "      <td>1</td>\n",
       "      <td>0</td>\n",
       "      <td>0</td>\n",
       "      <td>1</td>\n",
       "      <td>0</td>\n",
       "      <td>1</td>\n",
       "      <td>0</td>\n",
       "      <td>0</td>\n",
       "      <td>0</td>\n",
       "      <td>1</td>\n",
       "    </tr>\n",
       "    <tr>\n",
       "      <th>3</th>\n",
       "      <td>37</td>\n",
       "      <td>1</td>\n",
       "      <td>130</td>\n",
       "      <td>250</td>\n",
       "      <td>0</td>\n",
       "      <td>187</td>\n",
       "      <td>0</td>\n",
       "      <td>3.5</td>\n",
       "      <td>0</td>\n",
       "      <td>0</td>\n",
       "      <td>...</td>\n",
       "      <td>0</td>\n",
       "      <td>1</td>\n",
       "      <td>0</td>\n",
       "      <td>0</td>\n",
       "      <td>0</td>\n",
       "      <td>0</td>\n",
       "      <td>1</td>\n",
       "      <td>1</td>\n",
       "      <td>0</td>\n",
       "      <td>0</td>\n",
       "    </tr>\n",
       "    <tr>\n",
       "      <th>4</th>\n",
       "      <td>41</td>\n",
       "      <td>0</td>\n",
       "      <td>130</td>\n",
       "      <td>204</td>\n",
       "      <td>0</td>\n",
       "      <td>172</td>\n",
       "      <td>0</td>\n",
       "      <td>1.4</td>\n",
       "      <td>0</td>\n",
       "      <td>0</td>\n",
       "      <td>...</td>\n",
       "      <td>0</td>\n",
       "      <td>0</td>\n",
       "      <td>0</td>\n",
       "      <td>1</td>\n",
       "      <td>1</td>\n",
       "      <td>0</td>\n",
       "      <td>0</td>\n",
       "      <td>1</td>\n",
       "      <td>0</td>\n",
       "      <td>0</td>\n",
       "    </tr>\n",
       "  </tbody>\n",
       "</table>\n",
       "<p>5 rows × 22 columns</p>\n",
       "</div>"
      ],
      "text/plain": [
       "   age  sex  restbps  chol  fbs  thalach  exang  oldpeak ca  cp_1  ...  cp_4  \\\n",
       "0   63    1      145   233    1      150      0      2.3  0     1  ...     0   \n",
       "1   67    1      160   286    0      108      1      1.5  3     0  ...     1   \n",
       "2   67    1      120   229    0      129      1      2.6  2     0  ...     1   \n",
       "3   37    1      130   250    0      187      0      3.5  0     0  ...     0   \n",
       "4   41    0      130   204    0      172      0      1.4  0     0  ...     0   \n",
       "\n",
       "   restecg_0  restecg_1  restecg_2  slope_1  slope_2  slope_3  thal_3  thal_6  \\\n",
       "0          0          0          1        0        0        1       0       1   \n",
       "1          0          0          1        0        1        0       1       0   \n",
       "2          0          0          1        0        1        0       0       0   \n",
       "3          1          0          0        0        0        1       1       0   \n",
       "4          0          0          1        1        0        0       1       0   \n",
       "\n",
       "   thal_7  \n",
       "0       0  \n",
       "1       0  \n",
       "2       1  \n",
       "3       0  \n",
       "4       0  \n",
       "\n",
       "[5 rows x 22 columns]"
      ]
     },
     "execution_count": 16,
     "metadata": {},
     "output_type": "execute_result"
    }
   ],
   "source": [
    "X.head()\n",
    "#X.shape"
   ]
  },
  {
   "cell_type": "code",
   "execution_count": 17,
   "id": "55107568",
   "metadata": {},
   "outputs": [
    {
     "data": {
      "text/plain": [
       "array([0, 2, 1, 3, 4], dtype=int64)"
      ]
     },
     "execution_count": 17,
     "metadata": {},
     "output_type": "execute_result"
    }
   ],
   "source": [
    "#now same thing for y\n",
    "y.unique() #contains 4 different values, "
   ]
  },
  {
   "cell_type": "markdown",
   "id": "7a6e4457",
   "metadata": {},
   "source": [
    "- here 0 is no disease, 1,2,3,4 are different types of heart diseases.\n",
    "- for classification these 4 values need to be converted to 2 values,<b>0 means no diease</b>,<b>1 means heart disease</b>(any type among 1,2,3,4)."
   ]
  },
  {
   "cell_type": "code",
   "execution_count": 18,
   "id": "5c86898a",
   "metadata": {},
   "outputs": [
    {
     "data": {
      "text/plain": [
       "array([0, 1], dtype=int64)"
      ]
     },
     "execution_count": 18,
     "metadata": {},
     "output_type": "execute_result"
    }
   ],
   "source": [
    "y_not_Zero_index=y>0\n",
    "y[y_not_Zero_index]=1\n",
    "y.unique() "
   ]
  },
  {
   "cell_type": "code",
   "execution_count": 19,
   "id": "fa895569",
   "metadata": {},
   "outputs": [
    {
     "data": {
      "text/plain": [
       "(297,)"
      ]
     },
     "execution_count": 19,
     "metadata": {},
     "output_type": "execute_result"
    }
   ],
   "source": [
    "y.shape"
   ]
  },
  {
   "cell_type": "markdown",
   "id": "e0d5b106",
   "metadata": {},
   "source": [
    "### Train_test Split"
   ]
  },
  {
   "cell_type": "code",
   "execution_count": 20,
   "id": "eced8b09",
   "metadata": {},
   "outputs": [],
   "source": [
    "X_train, X_test, y_train, y_test = train_test_split(X, y, test_size= 0.2, random_state=42, stratify=y)"
   ]
  },
  {
   "cell_type": "markdown",
   "id": "8f7f0a82",
   "metadata": {},
   "source": [
    "### Decision Tree"
   ]
  },
  {
   "cell_type": "code",
   "execution_count": 21,
   "id": "45157a7e",
   "metadata": {},
   "outputs": [],
   "source": [
    "# model = LogisticRegression()\n",
    "model = DecisionTreeClassifier()\n",
    "# model = RandomForestClassifier()\n",
    "model = model.fit(X_train, y_train)"
   ]
  },
  {
   "cell_type": "code",
   "execution_count": 22,
   "id": "6e8ade07",
   "metadata": {},
   "outputs": [],
   "source": [
    "#prediction\n",
    "y_pred = model.predict(X_test)"
   ]
  },
  {
   "cell_type": "code",
   "execution_count": 23,
   "id": "235a7389",
   "metadata": {},
   "outputs": [
    {
     "data": {
      "image/png": "[encoded data removed]",
      "text/plain": [
       "<Figure size 1080x576 with 1 Axes>"
      ]
     },
     "metadata": {
      "needs_background": "light"
     },
     "output_type": "display_data"
    }
   ],
   "source": [
    "plt.figure(figsize=(15,8))\n",
    "_ = tree.plot_tree(model, \n",
    "                   feature_names=X.columns,  \n",
    "                   class_names=['No hd','hd'],\n",
    "                   filled=True)"
   ]
  },
  {
   "cell_type": "code",
   "execution_count": 24,
   "id": "b1cbf06b",
   "metadata": {},
   "outputs": [
    {
     "name": "stdout",
     "output_type": "stream",
     "text": [
      "confusion_matrix: \n",
      " [[25  7]\n",
      " [ 9 19]]\n"
     ]
    }
   ],
   "source": [
    "confusion_matrix_ = confusion_matrix(y_test,y_pred)\n",
    "\n",
    "print('confusion_matrix: \\n', confusion_matrix_)"
   ]
  },
  {
   "cell_type": "code",
   "execution_count": 25,
   "id": "a40e64ed",
   "metadata": {},
   "outputs": [
    {
     "data": {
      "image/png": "[encoded data removed]",
      "text/plain": [
       "<Figure size 432x288 with 2 Axes>"
      ]
     },
     "metadata": {
      "needs_background": "light"
     },
     "output_type": "display_data"
    }
   ],
   "source": [
    "plot_confusion_matrix(model,X_test,y_test,display_labels=['NO hd','hd'],cmap='Blues')\n",
    "plt.show()"
   ]
  },
  {
   "cell_type": "code",
   "execution_count": 26,
   "id": "69d073eb",
   "metadata": {},
   "outputs": [
    {
     "name": "stdout",
     "output_type": "stream",
     "text": [
      "True Negatives =  25\n",
      "False Negatives =  9\n",
      "False Positives =  7\n",
      "True Positives =  19\n"
     ]
    }
   ],
   "source": [
    "TN = confusion_matrix_[0,0]\n",
    "print(\"True Negatives = \", TN)\n",
    "\n",
    "FN = confusion_matrix_[1,0]\n",
    "print(\"False Negatives = \", FN)\n",
    "\n",
    "FP = confusion_matrix_[0,1]\n",
    "print(\"False Positives = \", FP)\n",
    "\n",
    "TP = confusion_matrix_[1,1]\n",
    "print(\"True Positives = \", TP)"
   ]
  },
  {
   "cell_type": "markdown",
   "id": "6e05070e",
   "metadata": {},
   "source": [
    "### Accuracy"
   ]
  },
  {
   "cell_type": "code",
   "execution_count": 27,
   "id": "5868a142",
   "metadata": {},
   "outputs": [
    {
     "name": "stdout",
     "output_type": "stream",
     "text": [
      "Calculated __________________________\n",
      "Accuracy:  0.7333333333333333\n",
      "\n",
      "Scikit-Learn ________________________\n",
      "Accuracy:  0.7333333333333333\n"
     ]
    }
   ],
   "source": [
    "print(\"Calculated __________________________\")\n",
    "# calculate the accuracy of the model from the confusion matrix\n",
    "accuracy = (TP+TN)/(TP+FP+FN+TN)\n",
    "print('Accuracy: ', accuracy)\n",
    "\n",
    "print(\"\\nScikit-Learn ________________________\")\n",
    "# calculate the accuracy of the model using the sklearn built-in function\n",
    "accuracy_ = accuracy_score(y_test,y_pred)\n",
    "\n",
    "print('Accuracy: ', accuracy_)"
   ]
  },
  {
   "cell_type": "code",
   "execution_count": 28,
   "id": "67e38e91",
   "metadata": {},
   "outputs": [
    {
     "name": "stdout",
     "output_type": "stream",
     "text": [
      "Calculated __________________________\n",
      "Precision =  0.73\n",
      "Recall =  0.68\n",
      "f1 score =  0.7\n",
      "\n",
      "Scikit-Learn ________________________\n",
      "Precision =  0.73\n",
      "Recall =  0.68\n",
      "f1 score =  0.7\n"
     ]
    }
   ],
   "source": [
    "print(\"Calculated __________________________\")\n",
    "precision = np.round(TP/(TP+FP), 2)\n",
    "recall = np.round(TP/(TP+FN), 2)\n",
    "f1_score_ = np.round((2*precision*recall)/(precision+recall), 2)\n",
    "\n",
    "print(\"Precision = \", precision)\n",
    "print(\"Recall = \", recall)\n",
    "print(\"f1 score = \", f1_score_)\n",
    "\n",
    "print(\"\\nScikit-Learn ________________________\")\n",
    "precision_ = np.round(precision_score(y_test,y_pred), 2)\n",
    "recall_ = np.round(recall_score(y_test,y_pred), 2)\n",
    "f1_score__ = np.round(f1_score(y_test,y_pred), 2)\n",
    "\n",
    "print(\"Precision = \", precision_)\n",
    "print(\"Recall = \", recall_)\n",
    "print(\"f1 score = \", f1_score__)"
   ]
  },
  {
   "cell_type": "code",
   "execution_count": 29,
   "id": "3ea41580",
   "metadata": {},
   "outputs": [
    {
     "name": "stdout",
     "output_type": "stream",
     "text": [
      "True Positive Rate =  0.68\n",
      "False Positive Rate =  0.22\n"
     ]
    }
   ],
   "source": [
    "TPR = np.round(TP/(TP+FN), 2)\n",
    "FPR = np.round(FP/(FP+TN), 2)\n",
    "\n",
    "print(\"True Positive Rate = \", TPR)\n",
    "print(\"False Positive Rate = \", FPR)"
   ]
  },
  {
   "cell_type": "markdown",
   "id": "db6f5458",
   "metadata": {},
   "source": [
    "### ROC and AUC"
   ]
  },
  {
   "cell_type": "code",
   "execution_count": 30,
   "id": "d80ac4b0",
   "metadata": {
    "scrolled": true
   },
   "outputs": [
    {
     "data": {
      "image/png": "[encoded data removed]",
      "text/plain": [
       "<Figure size 720x576 with 1 Axes>"
      ]
     },
     "metadata": {
      "needs_background": "light"
     },
     "output_type": "display_data"
    }
   ],
   "source": [
    "fpr, tpr, thr = roc_curve(y_test,y_pred)\n",
    "auc = np.round(roc_auc_score(y_test,y_pred), 2)\n",
    "\n",
    "plt.figure(figsize=(10, 8))\n",
    "plt.plot(fpr, \n",
    "         tpr, \n",
    "         color='green', \n",
    "         lw=2, \n",
    "         label=\"Curve Area = \" +str(auc))\n",
    "\n",
    "plt.plot([0, 1], [0, 1], color='blue', lw=2, linestyle='--')\n",
    "plt.xlabel('False Positive Rate (FPR)')\n",
    "plt.ylabel('True Positive Rate (TPR)')\n",
    "plt.title('ROC curve')\n",
    "plt.legend(loc=\"lower right\")\n",
    "plt.show()"
   ]
  },
  {
   "cell_type": "markdown",
   "id": "233fa940",
   "metadata": {},
   "source": [
    "### Report"
   ]
  },
  {
   "cell_type": "code",
   "execution_count": 31,
   "id": "3c22a8d0",
   "metadata": {},
   "outputs": [
    {
     "name": "stdout",
     "output_type": "stream",
     "text": [
      "Classification Report: \n",
      "               precision    recall  f1-score   support\n",
      "\n",
      "           0       0.74      0.78      0.76        32\n",
      "           1       0.73      0.68      0.70        28\n",
      "\n",
      "    accuracy                           0.73        60\n",
      "   macro avg       0.73      0.73      0.73        60\n",
      "weighted avg       0.73      0.73      0.73        60\n",
      "\n"
     ]
    }
   ],
   "source": [
    "class_report = classification_report(y_test,y_pred)\n",
    "print(\"Classification Report: \\n\", class_report)"
   ]
  },
  {
   "cell_type": "markdown",
   "id": "6ed9b410",
   "metadata": {},
   "source": [
    "- "
   ]
  }
 ],
 "metadata": {
  "kernelspec": {
   "display_name": "Python 3",
   "language": "python",
   "name": "python3"
  },
  "language_info": {
   "codemirror_mode": {
    "name": "ipython",
    "version": 3
   },
   "file_extension": ".py",
   "mimetype": "text/x-python",
   "name": "python",
   "nbconvert_exporter": "python",
   "pygments_lexer": "ipython3",
   "version": "3.8.8"
  }
 },
 "nbformat": 4,
 "nbformat_minor": 5
}
